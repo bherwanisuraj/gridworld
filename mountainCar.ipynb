{
 "cells": [
  {
   "cell_type": "code",
   "execution_count": 1,
   "metadata": {
    "collapsed": true
   },
   "outputs": [],
   "source": [
    "import numpy as np\n",
    "import matplotlib.pyplot as plt\n",
    "import gym\n",
    "from gym.envs.registration import register\n",
    "import time\n",
    "import os"
   ]
  },
  {
   "cell_type": "code",
   "execution_count": 2,
   "outputs": [],
   "source": [
    "# env = gym.make('MountainCar-v0')\n",
    "env = gym.make('MountainCar-v0', render_mode=\"human\")\n",
    "env.reset()\n",
    "env.close()"
   ],
   "metadata": {
    "collapsed": false
   }
  },
  {
   "cell_type": "code",
   "execution_count": 3,
   "outputs": [],
   "source": [
    "# maxV = []\n",
    "# maxP = []\n",
    "# for i in range(10000):\n",
    "#     env.render()\n",
    "#     observation, reward, done, info, check = env.step(env.action_space.sample())\n",
    "#     time.sleep(0.03)\n",
    "#     maxP.append(observation[0])\n",
    "#     maxV.append(observation[1])\n",
    "#     if done:\n",
    "#         env.reset()\n",
    "#         print(np.max(maxP), np.max(maxV))\n",
    "# env.close()"
   ],
   "metadata": {
    "collapsed": false
   }
  },
  {
   "cell_type": "code",
   "execution_count": 4,
   "outputs": [],
   "source": [
    "# print(np.max(maxP), np.max(maxV))"
   ],
   "metadata": {
    "collapsed": false
   }
  },
  {
   "cell_type": "code",
   "execution_count": 5,
   "outputs": [],
   "source": [
    "# print(np.min(maxP), np.min(maxV))"
   ],
   "metadata": {
    "collapsed": false
   }
  },
  {
   "cell_type": "code",
   "execution_count": 6,
   "outputs": [],
   "source": [
    "EPOCHS = 20000\n",
    "ALPHA = 0.8\n",
    "GAMMA = 0.9\n",
    "NO_OF_BINS = 10\n",
    "\n",
    "epsilon = 1.0\n",
    "min_epsilon = 0.01\n",
    "max_epsilon = 1.0\n",
    "decay_val = 0.0045"
   ],
   "metadata": {
    "collapsed": false
   }
  },
  {
   "cell_type": "code",
   "execution_count": 7,
   "outputs": [],
   "source": [
    "def createBins(NO_OF_BINS):\n",
    "    binPosition = np.linspace(-1.2, 0.6, NO_OF_BINS)\n",
    "    binVelocity = np.linspace(-0.6, 0.6, NO_OF_BINS)\n",
    "\n",
    "    return np.array([binPosition, binVelocity])"
   ],
   "metadata": {
    "collapsed": false
   }
  },
  {
   "cell_type": "code",
   "execution_count": 8,
   "outputs": [],
   "source": [
    "bins = createBins(NO_OF_BINS)\n"
   ],
   "metadata": {
    "collapsed": false
   }
  },
  {
   "cell_type": "code",
   "execution_count": 9,
   "outputs": [],
   "source": [
    "def discritizeObs(observation, bins):\n",
    "    binnedObs = []\n",
    "    for i, obs in enumerate(observation):\n",
    "        discreetVal = np.digitize(obs, bins[i])\n",
    "        binnedObs.append(discreetVal)\n",
    "\n",
    "    return tuple(binnedObs)"
   ],
   "metadata": {
    "collapsed": false
   }
  },
  {
   "cell_type": "code",
   "execution_count": 16,
   "outputs": [
    {
     "data": {
      "text/plain": "array([[0., 0., 0.],\n       [0., 0., 0.],\n       [0., 0., 0.],\n       [0., 0., 0.],\n       [0., 0., 0.],\n       [0., 0., 0.],\n       [0., 0., 0.],\n       [0., 0., 0.],\n       [0., 0., 0.],\n       [0., 0., 0.]])"
     },
     "execution_count": 16,
     "metadata": {},
     "output_type": "execute_result"
    }
   ],
   "source": [
    "qTableShape = (NO_OF_BINS, NO_OF_BINS, env.action_space.n)\n",
    "qTable = np.zeros(qTableShape)\n",
    "qTable[1]"
   ],
   "metadata": {
    "collapsed": false,
    "ExecuteTime": {
     "end_time": "2023-11-28T19:03:42.416033700Z",
     "start_time": "2023-11-28T19:03:42.382519100Z"
    }
   }
  },
  {
   "cell_type": "code",
   "execution_count": 1,
   "outputs": [
    {
     "ename": "SyntaxError",
     "evalue": "invalid syntax (3229517052.py, line 3)",
     "output_type": "error",
     "traceback": [
      "\u001B[1;36m  Cell \u001B[1;32mIn[1], line 3\u001B[1;36m\u001B[0m\n\u001B[1;33m    if rn > epsilon\"\"\u001B[0m\n\u001B[1;37m                   ^\u001B[0m\n\u001B[1;31mSyntaxError\u001B[0m\u001B[1;31m:\u001B[0m invalid syntax\n"
     ]
    }
   ],
   "source": [
    "def egas(qTable, epsilon, discreetState):\n",
    "    rn = np.random.random()\n",
    "    if rn > epsilon:\n",
    "        state_row = qTable[discreetState]\n",
    "\n",
    "    else:\n",
    "        action = env.action_space.sample()\n"
   ],
   "metadata": {
    "collapsed": false,
    "ExecuteTime": {
     "end_time": "2023-11-28T19:41:28.135133400Z",
     "start_time": "2023-11-28T19:41:28.131593Z"
    }
   }
  },
  {
   "cell_type": "code",
   "execution_count": 18,
   "outputs": [
    {
     "data": {
      "text/plain": "array([[[0., 0.],\n        [0., 0.],\n        [0., 0.],\n        [0., 0.],\n        [0., 0.]],\n\n       [[0., 0.],\n        [0., 0.],\n        [0., 0.],\n        [0., 0.],\n        [0., 0.]],\n\n       [[0., 0.],\n        [0., 0.],\n        [0., 0.],\n        [0., 0.],\n        [0., 0.]]])"
     },
     "execution_count": 18,
     "metadata": {},
     "output_type": "execute_result"
    }
   ],
   "source": [
    "a = np.zeros((3,5,2))\n",
    "a"
   ],
   "metadata": {
    "collapsed": false,
    "ExecuteTime": {
     "end_time": "2023-11-28T19:31:19.276414Z",
     "start_time": "2023-11-28T19:31:19.273899700Z"
    }
   }
  },
  {
   "cell_type": "markdown",
   "source": [],
   "metadata": {
    "collapsed": false
   }
  }
 ],
 "metadata": {
  "kernelspec": {
   "display_name": "Python 3",
   "language": "python",
   "name": "python3"
  },
  "language_info": {
   "codemirror_mode": {
    "name": "ipython",
    "version": 2
   },
   "file_extension": ".py",
   "mimetype": "text/x-python",
   "name": "python",
   "nbconvert_exporter": "python",
   "pygments_lexer": "ipython2",
   "version": "2.7.6"
  }
 },
 "nbformat": 4,
 "nbformat_minor": 0
}
