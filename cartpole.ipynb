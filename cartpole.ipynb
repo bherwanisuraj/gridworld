{
 "cells": [
  {
   "cell_type": "code",
   "execution_count": 3,
   "metadata": {
    "collapsed": true,
    "ExecuteTime": {
     "end_time": "2023-11-26T07:26:04.527471800Z",
     "start_time": "2023-11-26T07:26:04.515816500Z"
    }
   },
   "outputs": [
    {
     "ename": "ImportError",
     "evalue": "attempted relative import with no known parent package",
     "output_type": "error",
     "traceback": [
      "\u001B[1;31m---------------------------------------------------------------------------\u001B[0m",
      "\u001B[1;31mImportError\u001B[0m                               Traceback (most recent call last)",
      "Cell \u001B[1;32mIn[3], line 7\u001B[0m\n\u001B[0;32m      5\u001B[0m \u001B[38;5;28;01mimport\u001B[39;00m \u001B[38;5;21;01mtime\u001B[39;00m\n\u001B[0;32m      6\u001B[0m \u001B[38;5;28;01mimport\u001B[39;00m \u001B[38;5;21;01mos\u001B[39;00m\n\u001B[1;32m----> 7\u001B[0m \u001B[38;5;28;01mfrom\u001B[39;00m \u001B[38;5;21;01m.\u001B[39;00m\u001B[38;5;21;01mmain\u001B[39;00m \u001B[38;5;28;01mimport\u001B[39;00m egas, computeQValue, decay, punish\n",
      "\u001B[1;31mImportError\u001B[0m: attempted relative import with no known parent package"
     ]
    }
   ],
   "source": [
    "import numpy as np\n",
    "import matplotlib.pyplot as plt\n",
    "import gym\n",
    "from gym.envs.registration import register\n",
    "import time\n",
    "import os\n",
    "from .main import egas, computeQValue, decay, punish\n"
   ]
  },
  {
   "cell_type": "code",
   "execution_count": 4,
   "outputs": [
    {
     "data": {
      "text/plain": "(array([-0.0383417 ,  0.01542443, -0.03563764, -0.03051744], dtype=float32),\n {})"
     },
     "execution_count": 4,
     "metadata": {},
     "output_type": "execute_result"
    }
   ],
   "source": [
    "env = gym.make('CartPole-v1', render_mode=\"human\")\n",
    "env.reset()"
   ],
   "metadata": {
    "collapsed": false,
    "ExecuteTime": {
     "end_time": "2023-11-26T07:26:06.754038300Z",
     "start_time": "2023-11-26T07:26:06.003238600Z"
    }
   }
  },
  {
   "cell_type": "code",
   "execution_count": 5,
   "outputs": [
    {
     "name": "stderr",
     "output_type": "stream",
     "text": [
      "C:\\Users\\bherw\\OneDrive\\Desktop\\Suraj\\Reinforment Learning\\gridworld\\venv\\Lib\\site-packages\\gym\\utils\\passive_env_checker.py:233: DeprecationWarning: `np.bool8` is a deprecated alias for `np.bool_`.  (Deprecated NumPy 1.24)\n",
      "  if not isinstance(terminated, (bool, np.bool8)):\n"
     ]
    }
   ],
   "source": [
    "env.reset()\n",
    "for _ in range(100):\n",
    "    env.render()\n",
    "    observation, reward, done, info, check = env.step(env.action_space.sample())\n",
    "    time.sleep(0.03)\n",
    "    if done:\n",
    "        env.reset()\n",
    "env.close()"
   ],
   "metadata": {
    "collapsed": false,
    "ExecuteTime": {
     "end_time": "2023-11-26T07:26:13.012194700Z",
     "start_time": "2023-11-26T07:26:07.652333400Z"
    }
   }
  },
  {
   "cell_type": "code",
   "execution_count": 6,
   "outputs": [],
   "source": [
    "EPOCHS = 20000\n",
    "ALPHA = 0.8\n",
    "GAMMA = 0.9\n",
    "NO_OF_BINS = 10\n",
    "\n",
    "epsilon = 1.0\n",
    "min_epsilon = 0.01\n",
    "max_epsilon = 1.0\n",
    "decay_val = 0.0045"
   ],
   "metadata": {
    "collapsed": false,
    "ExecuteTime": {
     "end_time": "2023-11-26T07:26:16.025358500Z",
     "start_time": "2023-11-26T07:26:16.019838500Z"
    }
   }
  },
  {
   "cell_type": "code",
   "execution_count": 7,
   "outputs": [],
   "source": [
    "def createBins(noOfBins):\n",
    "    binCartPosition = np.linspace(-4.8, 4.8, noOfBins)\n",
    "    binCartVelocity = np.linspace(-5, 5, noOfBins)\n",
    "    binPoleAngle = np.linspace(-0.418, 0.418, noOfBins)\n",
    "    binAngularVelocity = np.linspace(-5, 5, noOfBins)\n",
    "\n",
    "    return np.array([binCartPosition, binCartVelocity, binPoleAngle, binAngularVelocity])"
   ],
   "metadata": {
    "collapsed": false,
    "ExecuteTime": {
     "end_time": "2023-11-26T07:26:19.576202Z",
     "start_time": "2023-11-26T07:26:19.573190300Z"
    }
   }
  },
  {
   "cell_type": "code",
   "execution_count": 10,
   "outputs": [],
   "source": [
    "bins = createBins(NO_OF_BINS)"
   ],
   "metadata": {
    "collapsed": false,
    "ExecuteTime": {
     "end_time": "2023-11-26T07:37:25.793159400Z",
     "start_time": "2023-11-26T07:37:25.789149800Z"
    }
   }
  },
  {
   "cell_type": "code",
   "execution_count": 8,
   "outputs": [],
   "source": [
    "def discretizeObs(observation, bins):\n",
    "    binned_obs = []\n",
    "    for i, obs in enumerate(observation):\n",
    "        discreetVal = np.digitize(obs, bins[i])\n",
    "        binned_obs.append(discreetVal)\n",
    "\n",
    "    return tuple(binned_obs)"
   ],
   "metadata": {
    "collapsed": false,
    "ExecuteTime": {
     "end_time": "2023-11-26T07:35:24.252211800Z",
     "start_time": "2023-11-26T07:35:24.239205400Z"
    }
   }
  },
  {
   "cell_type": "code",
   "execution_count": 9,
   "outputs": [
    {
     "data": {
      "text/plain": "array([ 0.05350843, -0.03458495, -0.04756857, -0.06274901], dtype=float32)"
     },
     "execution_count": 9,
     "metadata": {},
     "output_type": "execute_result"
    }
   ],
   "source": [
    "observation"
   ],
   "metadata": {
    "collapsed": false,
    "ExecuteTime": {
     "end_time": "2023-11-26T07:36:45.334374100Z",
     "start_time": "2023-11-26T07:36:45.321866400Z"
    }
   }
  },
  {
   "cell_type": "code",
   "execution_count": 11,
   "outputs": [
    {
     "data": {
      "text/plain": "(5, 5, 4, 5)"
     },
     "execution_count": 11,
     "metadata": {},
     "output_type": "execute_result"
    }
   ],
   "source": [
    "discretizeObs(observation, bins)"
   ],
   "metadata": {
    "collapsed": false,
    "ExecuteTime": {
     "end_time": "2023-11-26T07:37:31.343624600Z",
     "start_time": "2023-11-26T07:37:31.305849600Z"
    }
   }
  },
  {
   "cell_type": "code",
   "execution_count": 12,
   "outputs": [],
   "source": [
    "qTableShape = (NO_OF_BINS, NO_OF_BINS, NO_OF_BINS, NO_OF_BINS, env.action_space.n)"
   ],
   "metadata": {
    "collapsed": false,
    "ExecuteTime": {
     "end_time": "2023-11-26T07:51:32.470376600Z",
     "start_time": "2023-11-26T07:51:32.467867300Z"
    }
   }
  },
  {
   "cell_type": "code",
   "execution_count": 13,
   "outputs": [],
   "source": [
    "qTable = np.zeros(qTableShape)"
   ],
   "metadata": {
    "collapsed": false,
    "ExecuteTime": {
     "end_time": "2023-11-26T07:51:49.029670700Z",
     "start_time": "2023-11-26T07:51:49.026665900Z"
    }
   }
  },
  {
   "cell_type": "code",
   "execution_count": 15,
   "outputs": [
    {
     "data": {
      "text/plain": "(10, 10, 10, 10, 2)"
     },
     "execution_count": 15,
     "metadata": {},
     "output_type": "execute_result"
    }
   ],
   "source": [
    "qTable.shape"
   ],
   "metadata": {
    "collapsed": false,
    "ExecuteTime": {
     "end_time": "2023-11-26T07:51:59.658878200Z",
     "start_time": "2023-11-26T07:51:59.656341900Z"
    }
   }
  },
  {
   "cell_type": "code",
   "execution_count": null,
   "outputs": [],
   "source": [
    "for epoch in range(EPOCHS):\n",
    "    initState = env.reset()"
   ],
   "metadata": {
    "collapsed": false
   }
  }
 ],
 "metadata": {
  "kernelspec": {
   "display_name": "Python 3",
   "language": "python",
   "name": "python3"
  },
  "language_info": {
   "codemirror_mode": {
    "name": "ipython",
    "version": 2
   },
   "file_extension": ".py",
   "mimetype": "text/x-python",
   "name": "python",
   "nbconvert_exporter": "python",
   "pygments_lexer": "ipython2",
   "version": "2.7.6"
  }
 },
 "nbformat": 4,
 "nbformat_minor": 0
}
