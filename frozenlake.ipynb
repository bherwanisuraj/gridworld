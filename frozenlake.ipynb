{
 "cells": [
  {
   "cell_type": "code",
   "execution_count": 1,
   "metadata": {
    "collapsed": true,
    "ExecuteTime": {
     "end_time": "2023-10-30T07:27:50.634138Z",
     "start_time": "2023-10-30T07:27:49.587400400Z"
    }
   },
   "outputs": [],
   "source": [
    "import numpy as np\n",
    "import matplotlib.pyplot as plt\n",
    "import gym\n",
    "from gym.envs.registration import register\n",
    "import time\n",
    "import os"
   ]
  },
  {
   "cell_type": "code",
   "execution_count": 2,
   "outputs": [],
   "source": [
    "EPOCHS = 20000\n",
    "ALPHA = 0.8\n",
    "GAMMA = 0.9\n",
    "\n",
    "epsilon = 1.0\n",
    "min_epsilon = 0.01\n",
    "max_epsilon = 1.0\n",
    "decay_val = 0.0045"
   ],
   "metadata": {
    "collapsed": false,
    "ExecuteTime": {
     "end_time": "2023-10-30T07:27:50.636651800Z",
     "start_time": "2023-10-30T07:27:50.634643900Z"
    }
   }
  },
  {
   "cell_type": "code",
   "execution_count": 3,
   "outputs": [],
   "source": [
    "try:\n",
    "    register(\n",
    "        id='FrozenLakeNotSlippery-v0',\n",
    "        entry_point='gym.envs.toy_text:FrozenLakeEnv',\n",
    "        kwargs={'map_name':'4x4', 'is_slippery': False},\n",
    "        max_episode_steps=100,\n",
    "        reward_threshold=0.78, # optimum = .8196\n",
    "    )\n",
    "except:\n",
    "    print('Already Registered')"
   ],
   "metadata": {
    "collapsed": false,
    "ExecuteTime": {
     "end_time": "2023-10-30T07:27:50.640993Z",
     "start_time": "2023-10-30T07:27:50.638479300Z"
    }
   }
  },
  {
   "cell_type": "code",
   "execution_count": 4,
   "outputs": [],
   "source": [
    "env = gym.make('FrozenLakeNotSlippery-v0')"
   ],
   "metadata": {
    "collapsed": false,
    "ExecuteTime": {
     "end_time": "2023-10-30T07:27:50.660284500Z",
     "start_time": "2023-10-30T07:27:50.641992900Z"
    }
   }
  },
  {
   "cell_type": "code",
   "execution_count": 5,
   "outputs": [],
   "source": [
    "qTable = np.zeros([env.observation_space.n, env.action_space.n])"
   ],
   "metadata": {
    "collapsed": false,
    "ExecuteTime": {
     "end_time": "2023-10-30T07:27:50.672803200Z",
     "start_time": "2023-10-30T07:27:50.660284500Z"
    }
   }
  },
  {
   "cell_type": "code",
   "execution_count": 6,
   "outputs": [],
   "source": [
    "def egas(epsilon, qTable, discrete_state):\n",
    "    rn = np.random.random()\n",
    "    # exploitation\n",
    "    if rn > epsilon:\n",
    "        # print(discrete_state)\n",
    "        # print('Exploit')\n",
    "        state_row = qTable[discrete_state, :]\n",
    "        action = np.argmax(state_row)\n",
    "        # print(qTable)\n",
    "    else:\n",
    "        # print('random')\n",
    "        action = env.action_space.sample()\n",
    "\n",
    "    return action\n",
    "\n",
    "def computeQValue(currentQvalue, reward, nextOptimalQValue):\n",
    "    # if reward>0:\n",
    "    #\n",
    "    #     print(f\"computeQValue : {currentQvalue + ALPHA*(reward+GAMMA*nextOptimalQValue-currentQvalue)}\")\n",
    "\n",
    "    return currentQvalue + ALPHA*(reward+GAMMA*nextOptimalQValue-currentQvalue)\n",
    "\n",
    "def decay(epsilon, EPOCH):\n",
    "    return min_epsilon+(max_epsilon-min_epsilon)*np.exp(-decay_val*EPOCH)"
   ],
   "metadata": {
    "collapsed": false,
    "ExecuteTime": {
     "end_time": "2023-10-30T07:27:50.672803200Z",
     "start_time": "2023-10-30T07:27:50.661294300Z"
    }
   }
  },
  {
   "cell_type": "code",
   "execution_count": null,
   "outputs": [],
   "source": [],
   "metadata": {
    "collapsed": false
   }
  },
  {
   "cell_type": "code",
   "execution_count": 7,
   "outputs": [],
   "source": [
    "rewards = []\n",
    "interval = 1000"
   ],
   "metadata": {
    "collapsed": false,
    "ExecuteTime": {
     "end_time": "2023-10-30T07:27:50.672803200Z",
     "start_time": "2023-10-30T07:27:50.661294300Z"
    }
   }
  },
  {
   "cell_type": "code",
   "execution_count": 9,
   "outputs": [
    {
     "name": "stdout",
     "output_type": "stream",
     "text": [
      "723.0\n",
      "1712.0\n",
      "2704.0\n",
      "3687.0\n",
      "4679.0\n",
      "5671.0\n",
      "6660.0\n",
      "7651.0\n",
      "8638.0\n",
      "9628.0\n",
      "10616.0\n",
      "11608.0\n",
      "12601.0\n",
      "13592.0\n",
      "14579.0\n",
      "15569.0\n",
      "16561.0\n",
      "17555.0\n",
      "18539.0\n",
      "19529.0\n"
     ]
    }
   ],
   "source": [
    "for episode in range(EPOCHS):\n",
    "    # print(episode)\n",
    "    state = env.reset()\n",
    "    # print(f\"first state {state}\")\n",
    "    terminated = False\n",
    "    totalRewards = 0\n",
    "\n",
    "    while not terminated:\n",
    "        #ACTION\n",
    "        if type(state) is not int:\n",
    "            state = state[0]\n",
    "        action = egas(epsilon, qTable, state)\n",
    "\n",
    "        #Get values such as state, reward, done, info\n",
    "        new_state, reward, terminated, truncated, info = env.step(action)\n",
    "        # if reward>0:\n",
    "        #     print(f\"new_state: {new_state}, reward: {reward}, terminated: {terminated}, truncated: {truncated}, info: {info}\")\n",
    "\n",
    "        #Get Current Q Value\n",
    "\n",
    "        currentQValue = qTable[state, action]\n",
    "        # print(currentQValue)\n",
    "\n",
    "        #Get Optimal q value\n",
    "        nextOptimalQValue = np.max(qTable[new_state, :])\n",
    "        # if nextOptimalQValue > 0:\n",
    "        #     print(f\"nextOptimalQValue : {nextOptimalQValue}\")\n",
    "\n",
    "        #Compute next Q Value\n",
    "        nextQValue = computeQValue(currentQValue, reward, nextOptimalQValue)\n",
    "        # if reward>0:\n",
    "        #     print(reward)\n",
    "        # if nextQValue > 0:\n",
    "        #\n",
    "        #     print(nextQValue)\n",
    "\n",
    "        #Update the table\n",
    "        qTable[state, action] = nextQValue\n",
    "        # if nextQValue > 0:\n",
    "        #     print(qTable)\n",
    "\n",
    "        #Track Rewards\n",
    "        totalRewards = totalRewards+reward\n",
    "        # print(totalRewards)\n",
    "\n",
    "        #Update State\n",
    "\n",
    "        state = new_state\n",
    "        # print(state)\n",
    "        # print(\"-----------------------------------------------------------\")\n",
    "    # print(f\"this obs {state}\")\n",
    "    episode+=1\n",
    "    epsilon = decay(epsilon, episode)\n",
    "    # print(epsilon)\n",
    "    rewards.append(totalRewards)\n",
    "    if episode % interval == 0:\n",
    "        print(np.sum(rewards))\n",
    "        # pass\n",
    "    # print(f\"reward {np.sum(rewards)}\")\n",
    "\n",
    "env.close()"
   ],
   "metadata": {
    "collapsed": false,
    "ExecuteTime": {
     "end_time": "2023-10-30T07:28:21.768350300Z",
     "start_time": "2023-10-30T07:28:19.866104200Z"
    }
   }
  },
  {
   "cell_type": "code",
   "execution_count": 10,
   "outputs": [
    {
     "data": {
      "text/plain": "array([[0.531441  , 0.59049   , 0.4782969 , 0.531441  ],\n       [0.531441  , 0.        , 0.43044672, 0.47678902],\n       [0.4782969 , 0.38582329, 0.3429306 , 0.32985496],\n       [0.41032151, 0.        , 0.        , 0.        ],\n       [0.59049   , 0.6561    , 0.        , 0.531441  ],\n       [0.        , 0.        , 0.        , 0.        ],\n       [0.        , 0.80999959, 0.        , 0.43046714],\n       [0.        , 0.        , 0.        , 0.        ],\n       [0.6561    , 0.        , 0.729     , 0.59049   ],\n       [0.6561    , 0.81      , 0.81      , 0.        ],\n       [0.729     , 0.9       , 0.        , 0.72898718],\n       [0.        , 0.        , 0.        , 0.        ],\n       [0.        , 0.        , 0.        , 0.        ],\n       [0.        , 0.81      , 0.9       , 0.729     ],\n       [0.81      , 0.9       , 1.        , 0.81      ],\n       [0.        , 0.        , 0.        , 0.        ]])"
     },
     "execution_count": 10,
     "metadata": {},
     "output_type": "execute_result"
    }
   ],
   "source": [
    "qTable"
   ],
   "metadata": {
    "collapsed": false,
    "ExecuteTime": {
     "end_time": "2023-10-30T07:28:24.833664700Z",
     "start_time": "2023-10-30T07:28:24.824453900Z"
    }
   }
  },
  {
   "cell_type": "code",
   "execution_count": 11,
   "outputs": [],
   "source": [
    "env = gym.make('FrozenLakeNotSlippery-v0', render_mode=\"human\")"
   ],
   "metadata": {
    "collapsed": false,
    "ExecuteTime": {
     "end_time": "2023-10-30T07:28:26.715250300Z",
     "start_time": "2023-10-30T07:28:26.712237700Z"
    }
   }
  },
  {
   "cell_type": "code",
   "execution_count": 12,
   "outputs": [
    {
     "name": "stderr",
     "output_type": "stream",
     "text": [
      "C:\\Users\\bherw\\OneDrive\\Desktop\\Suraj\\Reinforment Learning\\gridworld\\venv\\Lib\\site-packages\\gym\\utils\\passive_env_checker.py:233: DeprecationWarning: `np.bool8` is a deprecated alias for `np.bool_`.  (Deprecated NumPy 1.24)\n",
      "  if not isinstance(terminated, (bool, np.bool8)):\n"
     ]
    },
    {
     "ename": "error",
     "evalue": "display Surface quit",
     "output_type": "error",
     "traceback": [
      "\u001B[1;31m---------------------------------------------------------------------------\u001B[0m",
      "\u001B[1;31merror\u001B[0m                                     Traceback (most recent call last)",
      "Cell \u001B[1;32mIn[12], line 4\u001B[0m\n\u001B[0;32m      1\u001B[0m state \u001B[38;5;241m=\u001B[39m env\u001B[38;5;241m.\u001B[39mreset()\n\u001B[0;32m      3\u001B[0m \u001B[38;5;28;01mfor\u001B[39;00m steps \u001B[38;5;129;01min\u001B[39;00m \u001B[38;5;28mrange\u001B[39m(\u001B[38;5;241m100\u001B[39m):\n\u001B[1;32m----> 4\u001B[0m     \u001B[43menv\u001B[49m\u001B[38;5;241;43m.\u001B[39;49m\u001B[43mrender\u001B[49m\u001B[43m(\u001B[49m\u001B[43m)\u001B[49m\n\u001B[0;32m      5\u001B[0m     \u001B[38;5;28;01mif\u001B[39;00m \u001B[38;5;28mtype\u001B[39m(state) \u001B[38;5;129;01mis\u001B[39;00m \u001B[38;5;129;01mnot\u001B[39;00m \u001B[38;5;28mint\u001B[39m:\n\u001B[0;32m      6\u001B[0m             state \u001B[38;5;241m=\u001B[39m state[\u001B[38;5;241m0\u001B[39m]\n",
      "File \u001B[1;32m~\\OneDrive\\Desktop\\Suraj\\Reinforment Learning\\gridworld\\venv\\Lib\\site-packages\\gym\\core.py:329\u001B[0m, in \u001B[0;36mWrapper.render\u001B[1;34m(self, *args, **kwargs)\u001B[0m\n\u001B[0;32m    325\u001B[0m \u001B[38;5;28;01mdef\u001B[39;00m \u001B[38;5;21mrender\u001B[39m(\n\u001B[0;32m    326\u001B[0m     \u001B[38;5;28mself\u001B[39m, \u001B[38;5;241m*\u001B[39margs, \u001B[38;5;241m*\u001B[39m\u001B[38;5;241m*\u001B[39mkwargs\n\u001B[0;32m    327\u001B[0m ) \u001B[38;5;241m-\u001B[39m\u001B[38;5;241m>\u001B[39m Optional[Union[RenderFrame, List[RenderFrame]]]:\n\u001B[0;32m    328\u001B[0m \u001B[38;5;250m    \u001B[39m\u001B[38;5;124;03m\"\"\"Renders the environment.\"\"\"\u001B[39;00m\n\u001B[1;32m--> 329\u001B[0m     \u001B[38;5;28;01mreturn\u001B[39;00m \u001B[38;5;28;43mself\u001B[39;49m\u001B[38;5;241;43m.\u001B[39;49m\u001B[43menv\u001B[49m\u001B[38;5;241;43m.\u001B[39;49m\u001B[43mrender\u001B[49m\u001B[43m(\u001B[49m\u001B[38;5;241;43m*\u001B[39;49m\u001B[43margs\u001B[49m\u001B[43m,\u001B[49m\u001B[43m \u001B[49m\u001B[38;5;241;43m*\u001B[39;49m\u001B[38;5;241;43m*\u001B[39;49m\u001B[43mkwargs\u001B[49m\u001B[43m)\u001B[49m\n",
      "File \u001B[1;32m~\\OneDrive\\Desktop\\Suraj\\Reinforment Learning\\gridworld\\venv\\Lib\\site-packages\\gym\\wrappers\\order_enforcing.py:51\u001B[0m, in \u001B[0;36mOrderEnforcing.render\u001B[1;34m(self, *args, **kwargs)\u001B[0m\n\u001B[0;32m     46\u001B[0m \u001B[38;5;28;01mif\u001B[39;00m \u001B[38;5;129;01mnot\u001B[39;00m \u001B[38;5;28mself\u001B[39m\u001B[38;5;241m.\u001B[39m_disable_render_order_enforcing \u001B[38;5;129;01mand\u001B[39;00m \u001B[38;5;129;01mnot\u001B[39;00m \u001B[38;5;28mself\u001B[39m\u001B[38;5;241m.\u001B[39m_has_reset:\n\u001B[0;32m     47\u001B[0m     \u001B[38;5;28;01mraise\u001B[39;00m ResetNeeded(\n\u001B[0;32m     48\u001B[0m         \u001B[38;5;124m\"\u001B[39m\u001B[38;5;124mCannot call `env.render()` before calling `env.reset()`, if this is a intended action, \u001B[39m\u001B[38;5;124m\"\u001B[39m\n\u001B[0;32m     49\u001B[0m         \u001B[38;5;124m\"\u001B[39m\u001B[38;5;124mset `disable_render_order_enforcing=True` on the OrderEnforcer wrapper.\u001B[39m\u001B[38;5;124m\"\u001B[39m\n\u001B[0;32m     50\u001B[0m     )\n\u001B[1;32m---> 51\u001B[0m \u001B[38;5;28;01mreturn\u001B[39;00m \u001B[38;5;28;43mself\u001B[39;49m\u001B[38;5;241;43m.\u001B[39;49m\u001B[43menv\u001B[49m\u001B[38;5;241;43m.\u001B[39;49m\u001B[43mrender\u001B[49m\u001B[43m(\u001B[49m\u001B[38;5;241;43m*\u001B[39;49m\u001B[43margs\u001B[49m\u001B[43m,\u001B[49m\u001B[43m \u001B[49m\u001B[38;5;241;43m*\u001B[39;49m\u001B[38;5;241;43m*\u001B[39;49m\u001B[43mkwargs\u001B[49m\u001B[43m)\u001B[49m\n",
      "File \u001B[1;32m~\\OneDrive\\Desktop\\Suraj\\Reinforment Learning\\gridworld\\venv\\Lib\\site-packages\\gym\\wrappers\\env_checker.py:55\u001B[0m, in \u001B[0;36mPassiveEnvChecker.render\u001B[1;34m(self, *args, **kwargs)\u001B[0m\n\u001B[0;32m     53\u001B[0m     \u001B[38;5;28;01mreturn\u001B[39;00m env_render_passive_checker(\u001B[38;5;28mself\u001B[39m\u001B[38;5;241m.\u001B[39menv, \u001B[38;5;241m*\u001B[39margs, \u001B[38;5;241m*\u001B[39m\u001B[38;5;241m*\u001B[39mkwargs)\n\u001B[0;32m     54\u001B[0m \u001B[38;5;28;01melse\u001B[39;00m:\n\u001B[1;32m---> 55\u001B[0m     \u001B[38;5;28;01mreturn\u001B[39;00m \u001B[38;5;28;43mself\u001B[39;49m\u001B[38;5;241;43m.\u001B[39;49m\u001B[43menv\u001B[49m\u001B[38;5;241;43m.\u001B[39;49m\u001B[43mrender\u001B[49m\u001B[43m(\u001B[49m\u001B[38;5;241;43m*\u001B[39;49m\u001B[43margs\u001B[49m\u001B[43m,\u001B[49m\u001B[43m \u001B[49m\u001B[38;5;241;43m*\u001B[39;49m\u001B[38;5;241;43m*\u001B[39;49m\u001B[43mkwargs\u001B[49m\u001B[43m)\u001B[49m\n",
      "File \u001B[1;32m~\\OneDrive\\Desktop\\Suraj\\Reinforment Learning\\gridworld\\venv\\Lib\\site-packages\\gym\\envs\\toy_text\\frozen_lake.py:279\u001B[0m, in \u001B[0;36mFrozenLakeEnv.render\u001B[1;34m(self)\u001B[0m\n\u001B[0;32m    277\u001B[0m     \u001B[38;5;28;01mreturn\u001B[39;00m \u001B[38;5;28mself\u001B[39m\u001B[38;5;241m.\u001B[39m_render_text()\n\u001B[0;32m    278\u001B[0m \u001B[38;5;28;01melse\u001B[39;00m:  \u001B[38;5;66;03m# self.render_mode in {\"human\", \"rgb_array\"}:\u001B[39;00m\n\u001B[1;32m--> 279\u001B[0m     \u001B[38;5;28;01mreturn\u001B[39;00m \u001B[38;5;28;43mself\u001B[39;49m\u001B[38;5;241;43m.\u001B[39;49m\u001B[43m_render_gui\u001B[49m\u001B[43m(\u001B[49m\u001B[38;5;28;43mself\u001B[39;49m\u001B[38;5;241;43m.\u001B[39;49m\u001B[43mrender_mode\u001B[49m\u001B[43m)\u001B[49m\n",
      "File \u001B[1;32m~\\OneDrive\\Desktop\\Suraj\\Reinforment Learning\\gridworld\\venv\\Lib\\site-packages\\gym\\envs\\toy_text\\frozen_lake.py:349\u001B[0m, in \u001B[0;36mFrozenLakeEnv._render_gui\u001B[1;34m(self, mode)\u001B[0m\n\u001B[0;32m    346\u001B[0m pos \u001B[38;5;241m=\u001B[39m (x \u001B[38;5;241m*\u001B[39m \u001B[38;5;28mself\u001B[39m\u001B[38;5;241m.\u001B[39mcell_size[\u001B[38;5;241m0\u001B[39m], y \u001B[38;5;241m*\u001B[39m \u001B[38;5;28mself\u001B[39m\u001B[38;5;241m.\u001B[39mcell_size[\u001B[38;5;241m1\u001B[39m])\n\u001B[0;32m    347\u001B[0m rect \u001B[38;5;241m=\u001B[39m (\u001B[38;5;241m*\u001B[39mpos, \u001B[38;5;241m*\u001B[39m\u001B[38;5;28mself\u001B[39m\u001B[38;5;241m.\u001B[39mcell_size)\n\u001B[1;32m--> 349\u001B[0m \u001B[38;5;28;43mself\u001B[39;49m\u001B[38;5;241;43m.\u001B[39;49m\u001B[43mwindow_surface\u001B[49m\u001B[38;5;241;43m.\u001B[39;49m\u001B[43mblit\u001B[49m\u001B[43m(\u001B[49m\u001B[38;5;28;43mself\u001B[39;49m\u001B[38;5;241;43m.\u001B[39;49m\u001B[43mice_img\u001B[49m\u001B[43m,\u001B[49m\u001B[43m \u001B[49m\u001B[43mpos\u001B[49m\u001B[43m)\u001B[49m\n\u001B[0;32m    350\u001B[0m \u001B[38;5;28;01mif\u001B[39;00m desc[y][x] \u001B[38;5;241m==\u001B[39m \u001B[38;5;124mb\u001B[39m\u001B[38;5;124m\"\u001B[39m\u001B[38;5;124mH\u001B[39m\u001B[38;5;124m\"\u001B[39m:\n\u001B[0;32m    351\u001B[0m     \u001B[38;5;28mself\u001B[39m\u001B[38;5;241m.\u001B[39mwindow_surface\u001B[38;5;241m.\u001B[39mblit(\u001B[38;5;28mself\u001B[39m\u001B[38;5;241m.\u001B[39mhole_img, pos)\n",
      "\u001B[1;31merror\u001B[0m: display Surface quit"
     ]
    }
   ],
   "source": [
    "state = env.reset()\n",
    "\n",
    "for steps in range(100):\n",
    "    env.render()\n",
    "    if type(state) is not int:\n",
    "            state = state[0]\n",
    "    action = np.argmax(qTable[state, :])\n",
    "\n",
    "    state, reward, terminated, truncated, info = env.step(action)\n",
    "    time.sleep(0.5)\n",
    "    if terminated:\n",
    "        env.close()"
   ],
   "metadata": {
    "collapsed": false,
    "ExecuteTime": {
     "end_time": "2023-10-30T07:28:47.437778700Z",
     "start_time": "2023-10-30T07:28:41.497884800Z"
    }
   }
  },
  {
   "cell_type": "code",
   "execution_count": null,
   "outputs": [],
   "source": [],
   "metadata": {
    "collapsed": false
   }
  }
 ],
 "metadata": {
  "kernelspec": {
   "display_name": "Python 3",
   "language": "python",
   "name": "python3"
  },
  "language_info": {
   "codemirror_mode": {
    "name": "ipython",
    "version": 2
   },
   "file_extension": ".py",
   "mimetype": "text/x-python",
   "name": "python",
   "nbconvert_exporter": "python",
   "pygments_lexer": "ipython2",
   "version": "2.7.6"
  }
 },
 "nbformat": 4,
 "nbformat_minor": 0
}
