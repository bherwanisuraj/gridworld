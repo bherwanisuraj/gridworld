{
 "cells": [
  {
   "cell_type": "code",
   "execution_count": 2,
   "metadata": {
    "collapsed": true,
    "ExecuteTime": {
     "end_time": "2023-10-29T19:10:41.715083700Z",
     "start_time": "2023-10-29T19:10:41.289176100Z"
    }
   },
   "outputs": [],
   "source": [
    "import numpy as np\n",
    "import matplotlib.pyplot as plt\n",
    "import gym\n",
    "from gym.envs.registration import register\n",
    "import time\n",
    "import os"
   ]
  },
  {
   "cell_type": "code",
   "execution_count": 3,
   "outputs": [],
   "source": [
    "EPOCHS = 20000\n",
    "ALPHA = 0.8\n",
    "GAMMA = 0.9\n",
    "\n",
    "epsilon = 1.0\n",
    "min_epsilon = 0.01\n",
    "max_epsilon = 1.0\n",
    "decay_val = 0.0045"
   ],
   "metadata": {
    "collapsed": false,
    "ExecuteTime": {
     "end_time": "2023-10-29T19:10:45.521434700Z",
     "start_time": "2023-10-29T19:10:45.515900500Z"
    }
   }
  },
  {
   "cell_type": "code",
   "execution_count": 4,
   "outputs": [],
   "source": [
    "try:\n",
    "    register(\n",
    "        id='FrozenLakeNotSlippery-v0',\n",
    "        entry_point='gym.envs.toy_text:FrozenLakeEnv',\n",
    "        kwargs={'map_name':'4x4', 'is_slippery': False},\n",
    "        max_episode_steps=100,\n",
    "        reward_threshold=0.78, # optimum = .8196\n",
    "    )\n",
    "except:\n",
    "    print('Already Registered')"
   ],
   "metadata": {
    "collapsed": false,
    "ExecuteTime": {
     "end_time": "2023-10-29T19:10:45.926490300Z",
     "start_time": "2023-10-29T19:10:45.921484800Z"
    }
   }
  },
  {
   "cell_type": "code",
   "execution_count": 5,
   "outputs": [],
   "source": [
    "env = gym.make('FrozenLakeNotSlippery-v0')"
   ],
   "metadata": {
    "collapsed": false,
    "ExecuteTime": {
     "end_time": "2023-10-29T19:10:46.395395900Z",
     "start_time": "2023-10-29T19:10:46.385498Z"
    }
   }
  },
  {
   "cell_type": "code",
   "execution_count": 6,
   "outputs": [],
   "source": [
    "qTable = np.zeros([env.observation_space.n, env.action_space.n])"
   ],
   "metadata": {
    "collapsed": false,
    "ExecuteTime": {
     "end_time": "2023-10-29T19:10:47.041634800Z",
     "start_time": "2023-10-29T19:10:47.033452300Z"
    }
   }
  },
  {
   "cell_type": "code",
   "execution_count": 7,
   "outputs": [],
   "source": [
    "def egas(epsilon, qTable, discrete_state):\n",
    "    rn = np.random.random()\n",
    "    # exploitation\n",
    "    if rn > epsilon:\n",
    "        # print(discrete_state)\n",
    "        # print('Exploit')\n",
    "        state_row = qTable[discrete_state, :]\n",
    "        action = np.argmax(state_row)\n",
    "        # print(qTable)\n",
    "    else:\n",
    "        # print('random')\n",
    "        action = env.action_space.sample()\n",
    "\n",
    "    return action\n",
    "\n",
    "def computeQValue(currentQvalue, reward, nextOptimalQValue):\n",
    "    # if reward>0:\n",
    "    #\n",
    "    #     print(f\"computeQValue : {currentQvalue + ALPHA*(reward+GAMMA*nextOptimalQValue-currentQvalue)}\")\n",
    "\n",
    "    return currentQvalue + ALPHA*(reward+GAMMA*nextOptimalQValue-currentQvalue)\n",
    "\n",
    "def decay(epsilon, EPOCH):\n",
    "    return min_epsilon+(max_epsilon-min_epsilon)*np.exp(-decay_val*EPOCH)"
   ],
   "metadata": {
    "collapsed": false,
    "ExecuteTime": {
     "end_time": "2023-10-29T19:10:47.582871900Z",
     "start_time": "2023-10-29T19:10:47.578359100Z"
    }
   }
  },
  {
   "cell_type": "code",
   "execution_count": 8,
   "outputs": [],
   "source": [
    "rewards = []\n",
    "interval = 1000"
   ],
   "metadata": {
    "collapsed": false,
    "ExecuteTime": {
     "end_time": "2023-10-29T19:10:52.638209800Z",
     "start_time": "2023-10-29T19:10:52.632696700Z"
    }
   }
  },
  {
   "cell_type": "code",
   "execution_count": 10,
   "outputs": [
    {
     "name": "stdout",
     "output_type": "stream",
     "text": [
      "19302.0\n",
      "20291.0\n",
      "21276.0\n",
      "22267.0\n",
      "23250.0\n",
      "24241.0\n",
      "25231.0\n",
      "26218.0\n",
      "27207.0\n",
      "28199.0\n",
      "29195.0\n",
      "30186.0\n",
      "31174.0\n",
      "32163.0\n",
      "33150.0\n",
      "34137.0\n",
      "35123.0\n",
      "36111.0\n",
      "37100.0\n",
      "38085.0\n"
     ]
    }
   ],
   "source": [
    "for episode in range(EPOCHS):\n",
    "    # print(episode)\n",
    "    state = env.reset()\n",
    "    # print(f\"first state {state}\")\n",
    "    terminated = False\n",
    "    totalRewards = 0\n",
    "\n",
    "    while not terminated:\n",
    "        #ACTION\n",
    "        if type(state) is not int:\n",
    "            state = state[0]\n",
    "        action = egas(epsilon, qTable, state)\n",
    "\n",
    "        #Get values such as state, reward, done, info\n",
    "        new_state, reward, terminated, truncated, info = env.step(action)\n",
    "        # if reward>0:\n",
    "        #     print(f\"new_state: {new_state}, reward: {reward}, terminated: {terminated}, truncated: {truncated}, info: {info}\")\n",
    "\n",
    "        #Get Current Q Value\n",
    "\n",
    "        currentQValue = qTable[state, action]\n",
    "        # print(currentQValue)\n",
    "\n",
    "        #Get Optimal q value\n",
    "        nextOptimalQValue = np.max(qTable[new_state, :])\n",
    "        # if nextOptimalQValue > 0:\n",
    "        #     print(f\"nextOptimalQValue : {nextOptimalQValue}\")\n",
    "\n",
    "        #Compute next Q Value\n",
    "        nextQValue = computeQValue(currentQValue, reward, nextOptimalQValue)\n",
    "        # if reward>0:\n",
    "        #     print(reward)\n",
    "        # if nextQValue > 0:\n",
    "        #\n",
    "        #     print(nextQValue)\n",
    "\n",
    "        #Update the table\n",
    "        qTable[state, action] = nextQValue\n",
    "        # if nextQValue > 0:\n",
    "        #     print(qTable)\n",
    "\n",
    "        #Track Rewards\n",
    "        totalRewards = totalRewards+reward\n",
    "        # print(totalRewards)\n",
    "\n",
    "        #Update State\n",
    "\n",
    "        state = new_state\n",
    "        # print(state)\n",
    "        # print(\"-----------------------------------------------------------\")\n",
    "    # print(f\"this obs {state}\")\n",
    "    episode+=1\n",
    "    epsilon = decay(epsilon, episode)\n",
    "    # print(epsilon)\n",
    "    rewards.append(totalRewards)\n",
    "    if episode % interval == 0:\n",
    "        print(np.sum(rewards))\n",
    "        # pass\n",
    "    # print(f\"reward {np.sum(rewards)}\")\n",
    "\n",
    "env.close()"
   ],
   "metadata": {
    "collapsed": false,
    "ExecuteTime": {
     "end_time": "2023-10-29T19:11:05.940900200Z",
     "start_time": "2023-10-29T19:11:04.128624500Z"
    }
   }
  },
  {
   "cell_type": "code",
   "execution_count": 11,
   "outputs": [
    {
     "data": {
      "text/plain": "array([[0.531441  , 0.59049   , 0.4782969 , 0.531441  ],\n       [0.531441  , 0.        , 0.43046721, 0.4782969 ],\n       [0.4782969 , 0.46861286, 0.37791386, 0.43030037],\n       [0.42966822, 0.        , 0.        , 0.        ],\n       [0.59049   , 0.6561    , 0.        , 0.531441  ],\n       [0.        , 0.        , 0.        , 0.        ],\n       [0.        , 0.7985952 , 0.        , 0.34437377],\n       [0.        , 0.        , 0.        , 0.        ],\n       [0.6561    , 0.        , 0.729     , 0.59049   ],\n       [0.6561    , 0.81      , 0.81      , 0.        ],\n       [0.729     , 0.9       , 0.        , 0.63284198],\n       [0.        , 0.        , 0.        , 0.        ],\n       [0.        , 0.        , 0.        , 0.        ],\n       [0.        , 0.81      , 0.9       , 0.729     ],\n       [0.81      , 0.9       , 1.        , 0.81      ],\n       [0.        , 0.        , 0.        , 0.        ]])"
     },
     "execution_count": 11,
     "metadata": {},
     "output_type": "execute_result"
    }
   ],
   "source": [
    "qTable"
   ],
   "metadata": {
    "collapsed": false,
    "ExecuteTime": {
     "end_time": "2023-10-29T19:11:07.217094600Z",
     "start_time": "2023-10-29T19:11:07.209398900Z"
    }
   }
  },
  {
   "cell_type": "code",
   "execution_count": 13,
   "outputs": [],
   "source": [
    "env = gym.make('FrozenLakeNotSlippery-v0', render_mode=\"human\")"
   ],
   "metadata": {
    "collapsed": false,
    "ExecuteTime": {
     "end_time": "2023-10-29T19:17:00.365446600Z",
     "start_time": "2023-10-29T19:17:00.360853900Z"
    }
   }
  },
  {
   "cell_type": "code",
   "execution_count": 1,
   "outputs": [
    {
     "ename": "NameError",
     "evalue": "name 'env' is not defined",
     "output_type": "error",
     "traceback": [
      "\u001B[1;31m---------------------------------------------------------------------------\u001B[0m",
      "\u001B[1;31mNameError\u001B[0m                                 Traceback (most recent call last)",
      "Cell \u001B[1;32mIn[1], line 1\u001B[0m\n\u001B[1;32m----> 1\u001B[0m state \u001B[38;5;241m=\u001B[39m \u001B[43menv\u001B[49m\u001B[38;5;241m.\u001B[39mreset()\n\u001B[0;32m      3\u001B[0m \u001B[38;5;28;01mfor\u001B[39;00m steps \u001B[38;5;129;01min\u001B[39;00m \u001B[38;5;28mrange\u001B[39m(\u001B[38;5;241m100\u001B[39m):\n\u001B[0;32m      4\u001B[0m     env\u001B[38;5;241m.\u001B[39mrender()\n",
      "\u001B[1;31mNameError\u001B[0m: name 'env' is not defined"
     ]
    }
   ],
   "source": [
    "state = env.reset()\n",
    "\n",
    "for steps in range(100):\n",
    "    env.render()\n",
    "    if type(state) is not int:\n",
    "            state = state[0]\n",
    "    action = np.argmax(qTable[state, :])\n",
    "\n",
    "    state, reward, terminated, truncated, info = env.step(action)\n",
    "    time.sleep(0.5)\n",
    "    if terminated:\n",
    "        env.close()"
   ],
   "metadata": {
    "collapsed": false,
    "ExecuteTime": {
     "end_time": "2023-10-29T19:19:41.291016800Z",
     "start_time": "2023-10-29T19:19:41.283002500Z"
    }
   }
  },
  {
   "cell_type": "code",
   "execution_count": null,
   "outputs": [],
   "source": [],
   "metadata": {
    "collapsed": false
   }
  }
 ],
 "metadata": {
  "kernelspec": {
   "display_name": "Python 3",
   "language": "python",
   "name": "python3"
  },
  "language_info": {
   "codemirror_mode": {
    "name": "ipython",
    "version": 2
   },
   "file_extension": ".py",
   "mimetype": "text/x-python",
   "name": "python",
   "nbconvert_exporter": "python",
   "pygments_lexer": "ipython2",
   "version": "2.7.6"
  }
 },
 "nbformat": 4,
 "nbformat_minor": 0
}
