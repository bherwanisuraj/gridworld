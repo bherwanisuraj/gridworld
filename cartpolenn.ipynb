{
 "cells": [
  {
   "cell_type": "code",
   "execution_count": 2,
   "metadata": {
    "collapsed": true,
    "ExecuteTime": {
     "end_time": "2024-01-05T12:07:42.190659300Z",
     "start_time": "2024-01-05T12:07:37.653780400Z"
    }
   },
   "outputs": [
    {
     "name": "stdout",
     "output_type": "stream",
     "text": [
      "WARNING:tensorflow:From C:\\Users\\bherw\\OneDrive\\Desktop\\Suraj\\Reinforment Learning\\gridworld\\venv\\Lib\\site-packages\\keras\\src\\losses.py:2976: The name tf.losses.sparse_softmax_cross_entropy is deprecated. Please use tf.compat.v1.losses.sparse_softmax_cross_entropy instead.\n",
      "\n"
     ]
    }
   ],
   "source": [
    "import numpy as np\n",
    "import random\n",
    "import tensorflow as tf\n",
    "from collections import deque\n",
    "import gym\n",
    "from tensorflow.keras.models import Sequential, clone_model\n",
    "from tensorflow.keras.layers import Dense, Activation\n",
    "from tensorflow.keras.optimizers import Adam"
   ]
  },
  {
   "cell_type": "code",
   "execution_count": 3,
   "outputs": [],
   "source": [
    "env_name = 'CartPole-v1'\n",
    "env = gym.make(env_name, render_mode='human')\n"
   ],
   "metadata": {
    "collapsed": false,
    "ExecuteTime": {
     "end_time": "2024-01-05T12:07:42.201219700Z",
     "start_time": "2024-01-05T12:07:42.191657900Z"
    }
   }
  },
  {
   "cell_type": "code",
   "execution_count": 4,
   "outputs": [
    {
     "name": "stderr",
     "output_type": "stream",
     "text": [
      "C:\\Users\\bherw\\OneDrive\\Desktop\\Suraj\\Reinforment Learning\\gridworld\\venv\\Lib\\site-packages\\gym\\utils\\passive_env_checker.py:233: DeprecationWarning: `np.bool8` is a deprecated alias for `np.bool_`.  (Deprecated NumPy 1.24)\n",
      "  if not isinstance(terminated, (bool, np.bool8)):\n",
      "C:\\Users\\bherw\\OneDrive\\Desktop\\Suraj\\Reinforment Learning\\gridworld\\venv\\Lib\\site-packages\\gym\\envs\\classic_control\\cartpole.py:177: UserWarning: \u001B[33mWARN: You are calling 'step()' even though this environment has already returned terminated = True. You should always call 'reset()' once you receive 'terminated = True' -- any further steps are undefined behavior.\u001B[0m\n",
      "  logger.warn(\n"
     ]
    }
   ],
   "source": [
    "env.reset()\n",
    "for step in range(100):\n",
    "    env.render()\n",
    "    env.step(env.action_space.sample())\n",
    "\n",
    "env.close()"
   ],
   "metadata": {
    "collapsed": false,
    "ExecuteTime": {
     "end_time": "2024-01-05T12:07:46.651122800Z",
     "start_time": "2024-01-05T12:07:42.202224400Z"
    }
   }
  },
  {
   "cell_type": "code",
   "execution_count": 5,
   "outputs": [],
   "source": [
    "num_of_obs = env.observation_space.shape[0]\n",
    "num_of_act = env.action_space.n"
   ],
   "metadata": {
    "collapsed": false,
    "ExecuteTime": {
     "end_time": "2024-01-05T12:07:50.501283900Z",
     "start_time": "2024-01-05T12:07:50.495769100Z"
    }
   }
  },
  {
   "cell_type": "code",
   "execution_count": 6,
   "outputs": [
    {
     "name": "stdout",
     "output_type": "stream",
     "text": [
      "WARNING:tensorflow:From C:\\Users\\bherw\\OneDrive\\Desktop\\Suraj\\Reinforment Learning\\gridworld\\venv\\Lib\\site-packages\\keras\\src\\backend.py:873: The name tf.get_default_graph is deprecated. Please use tf.compat.v1.get_default_graph instead.\n",
      "\n"
     ]
    }
   ],
   "source": [
    "model = Sequential()\n",
    "model.add(Dense(16, activation = 'relu', input_shape=(1, num_of_obs)))\n",
    "model.add(Dense(32, activation = 'relu'))\n",
    "model.add(Dense(num_of_act, activation = 'linear'))\n",
    "\n"
   ],
   "metadata": {
    "collapsed": false,
    "ExecuteTime": {
     "end_time": "2024-01-05T12:07:53.463923800Z",
     "start_time": "2024-01-05T12:07:53.244553200Z"
    }
   }
  },
  {
   "cell_type": "code",
   "execution_count": 7,
   "outputs": [
    {
     "name": "stdout",
     "output_type": "stream",
     "text": [
      "Model: \"sequential\"\n",
      "_________________________________________________________________\n",
      " Layer (type)                Output Shape              Param #   \n",
      "=================================================================\n",
      " dense (Dense)               (None, 1, 16)             80        \n",
      "                                                                 \n",
      " dense_1 (Dense)             (None, 1, 32)             544       \n",
      "                                                                 \n",
      " dense_2 (Dense)             (None, 1, 2)              66        \n",
      "                                                                 \n",
      "=================================================================\n",
      "Total params: 690 (2.70 KB)\n",
      "Trainable params: 690 (2.70 KB)\n",
      "Non-trainable params: 0 (0.00 Byte)\n",
      "_________________________________________________________________\n",
      "None\n"
     ]
    }
   ],
   "source": [
    "print(model.summary())"
   ],
   "metadata": {
    "collapsed": false,
    "ExecuteTime": {
     "end_time": "2024-01-05T12:07:53.703595900Z",
     "start_time": "2024-01-05T12:07:53.694019300Z"
    }
   }
  },
  {
   "cell_type": "code",
   "execution_count": 8,
   "outputs": [],
   "source": [
    "target_model = clone_model(model)"
   ],
   "metadata": {
    "collapsed": false,
    "ExecuteTime": {
     "end_time": "2024-01-05T12:07:55.530280100Z",
     "start_time": "2024-01-05T12:07:55.488939400Z"
    }
   }
  },
  {
   "cell_type": "code",
   "execution_count": 9,
   "outputs": [],
   "source": [
    "EPOCH = 10\n",
    "epsilon = 1.0\n",
    "epsilon_reduce = 0.0001\n",
    "learning_rate = 0.001\n",
    "gamma = 0.95"
   ],
   "metadata": {
    "collapsed": false,
    "ExecuteTime": {
     "end_time": "2024-01-05T12:07:56.835540200Z",
     "start_time": "2024-01-05T12:07:56.831024400Z"
    }
   }
  },
  {
   "cell_type": "code",
   "execution_count": 10,
   "outputs": [],
   "source": [
    "def egas(model, epsilon, obs):\n",
    "    if np.random.random() > epsilon:\n",
    "        prediction = model.predict(obs)\n",
    "        action = np.argmax(prediction)\n",
    "\n",
    "    else:\n",
    "        action = env.action_space.sample()\n",
    "\n",
    "    return action"
   ],
   "metadata": {
    "collapsed": false,
    "ExecuteTime": {
     "end_time": "2024-01-05T12:11:14.392156900Z",
     "start_time": "2024-01-05T12:11:14.388156800Z"
    }
   }
  },
  {
   "cell_type": "code",
   "execution_count": 11,
   "outputs": [],
   "source": [
    "replay_buffer = deque(maxlen=20000)\n",
    "update_target_model = 10"
   ],
   "metadata": {
    "collapsed": false,
    "ExecuteTime": {
     "end_time": "2024-01-05T12:16:03.288813700Z",
     "start_time": "2024-01-05T12:16:03.285812300Z"
    }
   }
  },
  {
   "cell_type": "code",
   "execution_count": null,
   "outputs": [],
   "source": [
    "def replay(replay_buffer, batch_size, model, target_model):\n",
    "    if len(replay_buffer) < batch_size:\n",
    "        return\n",
    "    samples = random.sample(replay_buffer, batch_size)\n",
    "    zipped_samples = list(zip(*samples))\n",
    "    states, action, rewards, new_states, dones = zipped_samples\n",
    "    targets = target_model.predict(np.array(states))\n",
    "    q_value = model.predict(np.array(new_states))\n",
    "\n"
   ],
   "metadata": {
    "collapsed": false
   }
  }
 ],
 "metadata": {
  "kernelspec": {
   "display_name": "Python 3",
   "language": "python",
   "name": "python3"
  },
  "language_info": {
   "codemirror_mode": {
    "name": "ipython",
    "version": 2
   },
   "file_extension": ".py",
   "mimetype": "text/x-python",
   "name": "python",
   "nbconvert_exporter": "python",
   "pygments_lexer": "ipython2",
   "version": "2.7.6"
  }
 },
 "nbformat": 4,
 "nbformat_minor": 0
}
