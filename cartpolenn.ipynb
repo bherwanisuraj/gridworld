{
 "cells": [
  {
   "cell_type": "code",
   "execution_count": 1,
   "outputs": [],
   "source": [
    "# !pip install tensorflow"
   ],
   "metadata": {
    "collapsed": false,
    "ExecuteTime": {
     "end_time": "2024-01-24T09:23:54.689714800Z",
     "start_time": "2024-01-24T09:23:54.675844900Z"
    }
   }
  },
  {
   "cell_type": "code",
   "execution_count": 2,
   "metadata": {
    "collapsed": true,
    "ExecuteTime": {
     "end_time": "2024-01-24T09:23:57.747306100Z",
     "start_time": "2024-01-24T09:23:54.681715900Z"
    }
   },
   "outputs": [
    {
     "name": "stdout",
     "output_type": "stream",
     "text": [
      "WARNING:tensorflow:From C:\\Users\\bherw\\OneDrive\\Desktop\\Suraj\\Reinforment Learning\\gridworld\\venv\\Lib\\site-packages\\keras\\src\\losses.py:2976: The name tf.losses.sparse_softmax_cross_entropy is deprecated. Please use tf.compat.v1.losses.sparse_softmax_cross_entropy instead.\n",
      "\n"
     ]
    }
   ],
   "source": [
    "import numpy as np\n",
    "import random\n",
    "import tensorflow as tf\n",
    "from collections import deque\n",
    "import tensorflow as tf\n",
    "import gym"
   ]
  },
  {
   "cell_type": "code",
   "execution_count": 3,
   "outputs": [],
   "source": [
    "env_name = 'CartPole-v1'\n",
    "env = gym.make(env_name)\n"
   ],
   "metadata": {
    "collapsed": false,
    "ExecuteTime": {
     "end_time": "2024-01-24T09:23:57.755888500Z",
     "start_time": "2024-01-24T09:23:57.748303400Z"
    }
   }
  },
  {
   "cell_type": "code",
   "execution_count": 4,
   "outputs": [],
   "source": [
    "# env.reset()\n",
    "# for step in range(100):\n",
    "#     env.render()\n",
    "#     env.step(env.action_space.sample())\n",
    "#\n",
    "# env.close()"
   ],
   "metadata": {
    "collapsed": false,
    "ExecuteTime": {
     "end_time": "2024-01-24T09:23:57.758916700Z",
     "start_time": "2024-01-24T09:23:57.755888500Z"
    }
   }
  },
  {
   "cell_type": "code",
   "execution_count": 5,
   "outputs": [],
   "source": [
    "num_of_obs = env.observation_space.shape[0]\n",
    "num_of_act = env.action_space.n"
   ],
   "metadata": {
    "collapsed": false,
    "ExecuteTime": {
     "end_time": "2024-01-24T09:23:57.763355600Z",
     "start_time": "2024-01-24T09:23:57.760918700Z"
    }
   }
  },
  {
   "cell_type": "code",
   "execution_count": 6,
   "outputs": [
    {
     "name": "stdout",
     "output_type": "stream",
     "text": [
      "WARNING:tensorflow:From C:\\Users\\bherw\\OneDrive\\Desktop\\Suraj\\Reinforment Learning\\gridworld\\venv\\Lib\\site-packages\\keras\\src\\backend.py:873: The name tf.get_default_graph is deprecated. Please use tf.compat.v1.get_default_graph instead.\n",
      "\n"
     ]
    }
   ],
   "source": [
    "model = tf.keras.models.Sequential()\n",
    "model.add(tf.keras.layers.Dense(16, activation = 'relu', input_shape=(1, num_of_obs)))\n",
    "model.add(tf.keras.layers.Dense(32, activation = 'relu'))\n",
    "model.add(tf.keras.layers.Dense(num_of_act, activation = 'linear'))\n",
    "\n"
   ],
   "metadata": {
    "collapsed": false,
    "ExecuteTime": {
     "end_time": "2024-01-24T09:23:57.955834Z",
     "start_time": "2024-01-24T09:23:57.765353600Z"
    }
   }
  },
  {
   "cell_type": "code",
   "execution_count": 7,
   "outputs": [
    {
     "name": "stdout",
     "output_type": "stream",
     "text": [
      "Model: \"sequential\"\n",
      "_________________________________________________________________\n",
      " Layer (type)                Output Shape              Param #   \n",
      "=================================================================\n",
      " dense (Dense)               (None, 1, 16)             80        \n",
      "                                                                 \n",
      " dense_1 (Dense)             (None, 1, 32)             544       \n",
      "                                                                 \n",
      " dense_2 (Dense)             (None, 1, 2)              66        \n",
      "                                                                 \n",
      "=================================================================\n",
      "Total params: 690 (2.70 KB)\n",
      "Trainable params: 690 (2.70 KB)\n",
      "Non-trainable params: 0 (0.00 Byte)\n",
      "_________________________________________________________________\n",
      "None\n"
     ]
    }
   ],
   "source": [
    "print(model.summary())"
   ],
   "metadata": {
    "collapsed": false,
    "ExecuteTime": {
     "end_time": "2024-01-24T09:23:57.965261300Z",
     "start_time": "2024-01-24T09:23:57.955834Z"
    }
   }
  },
  {
   "cell_type": "code",
   "execution_count": 8,
   "outputs": [],
   "source": [
    "target_model = tf.keras.models.clone_model(model)"
   ],
   "metadata": {
    "collapsed": false,
    "ExecuteTime": {
     "end_time": "2024-01-24T09:23:58.009638100Z",
     "start_time": "2024-01-24T09:23:57.966263800Z"
    }
   }
  },
  {
   "cell_type": "code",
   "execution_count": 9,
   "outputs": [],
   "source": [
    "EPOCHS = 1000\n",
    "epsilon = 1.0\n",
    "epsilon_reduce = 0.0001\n",
    "learning_rate = 0.001\n",
    "gamma = 0.95"
   ],
   "metadata": {
    "collapsed": false,
    "ExecuteTime": {
     "end_time": "2024-01-24T09:23:58.013268700Z",
     "start_time": "2024-01-24T09:23:58.008634100Z"
    }
   }
  },
  {
   "cell_type": "code",
   "execution_count": 10,
   "outputs": [],
   "source": [
    "def egas(model, epsilon, obs):\n",
    "    if np.random.random() > epsilon:\n",
    "        prediction = model.predict(obs, verbose=0)\n",
    "        action = np.argmax(prediction)\n",
    "\n",
    "    else:\n",
    "        action = env.action_space.sample()\n",
    "\n",
    "    return action"
   ],
   "metadata": {
    "collapsed": false,
    "ExecuteTime": {
     "end_time": "2024-01-24T09:23:58.016184Z",
     "start_time": "2024-01-24T09:23:58.013268700Z"
    }
   }
  },
  {
   "cell_type": "code",
   "execution_count": 11,
   "outputs": [],
   "source": [
    "replay_buffer = deque(maxlen=20000)\n",
    "update_target_model = 10"
   ],
   "metadata": {
    "collapsed": false,
    "ExecuteTime": {
     "end_time": "2024-01-24T09:23:58.020576500Z",
     "start_time": "2024-01-24T09:23:58.017185500Z"
    }
   }
  },
  {
   "cell_type": "code",
   "execution_count": 12,
   "outputs": [],
   "source": [
    "def replay(replay_buffer, batch_size, model, target_model):\n",
    "    if len(replay_buffer) < batch_size:\n",
    "        return\n",
    "    samples = random.sample(replay_buffer, batch_size)\n",
    "    target_batch = []\n",
    "    zipped_samples = list(zip(*samples))\n",
    "    states, actions, rewards, new_states, dones = zipped_samples\n",
    "    targets = target_model.predict(np.array(states), verbose=0)\n",
    "    q_values = model.predict(np.array(new_states), verbose=0)\n",
    "\n",
    "    for i in range(batch_size):\n",
    "        # print(f\"{q_value} : q vlaue\")\n",
    "        q_value = max(q_values[i][0])\n",
    "        # print(f\"{q_value} : q max\")\n",
    "        target = targets[i].copy()\n",
    "\n",
    "        if dones[i]:\n",
    "            target[0][actions[i]] = rewards[i]\n",
    "\n",
    "        else:\n",
    "            target[0][actions[i]] = rewards[i]+q_value*gamma\n",
    "\n",
    "        target_batch.append(target)\n",
    "\n",
    "    model.fit(np.array(states), np.array(target_batch), epochs = 1, verbose=0)\n"
   ],
   "metadata": {
    "collapsed": false,
    "ExecuteTime": {
     "end_time": "2024-01-24T09:23:58.025701500Z",
     "start_time": "2024-01-24T09:23:58.023187200Z"
    }
   }
  },
  {
   "cell_type": "code",
   "execution_count": 13,
   "outputs": [],
   "source": [
    "def update_model_handler(update_target_model, model, target_model, epoch):\n",
    "    # print(epoch)\n",
    "    if epoch > 0 and update_target_model % epoch == 0:\n",
    "        target_model.set_weights(model.get_weights())"
   ],
   "metadata": {
    "collapsed": false,
    "ExecuteTime": {
     "end_time": "2024-01-24T09:23:58.028247800Z",
     "start_time": "2024-01-24T09:23:58.025701500Z"
    }
   }
  },
  {
   "cell_type": "code",
   "execution_count": 14,
   "outputs": [],
   "source": [
    "model.compile(loss='mse', optimizer = (tf.keras.optimizers.Adam(learning_rate=learning_rate)))"
   ],
   "metadata": {
    "collapsed": false,
    "ExecuteTime": {
     "end_time": "2024-01-24T09:23:58.041630600Z",
     "start_time": "2024-01-24T09:23:58.030250600Z"
    }
   }
  },
  {
   "cell_type": "code",
   "execution_count": 15,
   "outputs": [],
   "source": [
    "env_name = 'CartPole-v1'\n",
    "env = gym.make(env_name)"
   ],
   "metadata": {
    "collapsed": false,
    "ExecuteTime": {
     "end_time": "2024-01-24T09:23:58.058004500Z",
     "start_time": "2024-01-24T09:23:58.040624100Z"
    }
   }
  },
  {
   "cell_type": "code",
   "execution_count": null,
   "outputs": [
    {
     "name": "stdout",
     "output_type": "stream",
     "text": [
      "0 : 20 points : 20 : best\n"
     ]
    },
    {
     "name": "stderr",
     "output_type": "stream",
     "text": [
      "C:\\Users\\bherw\\OneDrive\\Desktop\\Suraj\\Reinforment Learning\\gridworld\\venv\\Lib\\site-packages\\gym\\utils\\passive_env_checker.py:233: DeprecationWarning: `np.bool8` is a deprecated alias for `np.bool_`.  (Deprecated NumPy 1.24)\n",
      "  if not isinstance(terminated, (bool, np.bool8)):\n"
     ]
    },
    {
     "name": "stdout",
     "output_type": "stream",
     "text": [
      "WARNING:tensorflow:From C:\\Users\\bherw\\OneDrive\\Desktop\\Suraj\\Reinforment Learning\\gridworld\\venv\\Lib\\site-packages\\keras\\src\\utils\\tf_utils.py:492: The name tf.ragged.RaggedTensorValue is deprecated. Please use tf.compat.v1.ragged.RaggedTensorValue instead.\n",
      "\n",
      "25 : 34 points : 57 : best\n",
      "1/1 [==============================] - 0s 49ms/step\n",
      "1/1 [==============================] - 0s 17ms/step\n",
      "1/1 [==============================] - 0s 14ms/step\n",
      "50 : 9 points : 68 : best\n",
      "1/1 [==============================] - 0s 14ms/step\n",
      "1/1 [==============================] - 0s 14ms/step\n",
      "1/1 [==============================] - 0s 14ms/step\n",
      "1/1 [==============================] - 0s 15ms/step\n",
      "1/1 [==============================] - 0s 13ms/step\n",
      "1/1 [==============================] - 0s 15ms/step\n",
      "75 : 16 points : 68 : best\n",
      "1/1 [==============================] - 0s 16ms/step\n",
      "1/1 [==============================] - 0s 15ms/step\n",
      "100 : 24 points : 68 : best\n",
      "1/1 [==============================] - 0s 14ms/step\n",
      "1/1 [==============================] - 0s 14ms/step\n"
     ]
    }
   ],
   "source": [
    "best = 0\n",
    "for epoch in range(EPOCHS):\n",
    "    obs = env.reset()\n",
    "    # print(obs)\n",
    "    obs = obs[0].reshape([1,4])\n",
    "    done = False\n",
    "    points = 0\n",
    "    while not done:\n",
    "        action = egas(model, epsilon, obs)\n",
    "        # print(env.step(action))\n",
    "        next_obs, reward, done, info, check = env.step(action)\n",
    "        next_obs = next_obs.reshape([1,4])\n",
    "\n",
    "        replay_buffer.append((obs, action, reward, next_obs, done))\n",
    "        obs = next_obs\n",
    "        points+=1\n",
    "        replay(replay_buffer, 32, model, target_model)\n",
    "\n",
    "    epsilon = epsilon - epsilon_reduce\n",
    "    update_model_handler(update_target_model, model, target_model, epoch)\n",
    "    if points > best:\n",
    "        best = points\n",
    "\n",
    "    if epoch%25 == 0:\n",
    "        print(f\"{epoch} : {points} points : {best} : best\")\n"
   ],
   "metadata": {
    "collapsed": false,
    "ExecuteTime": {
     "start_time": "2024-01-24T09:23:58.045485500Z"
    }
   }
  },
  {
   "cell_type": "code",
   "execution_count": null,
   "outputs": [],
   "source": [],
   "metadata": {
    "collapsed": false
   }
  }
 ],
 "metadata": {
  "kernelspec": {
   "display_name": "Python 3",
   "language": "python",
   "name": "python3"
  },
  "language_info": {
   "codemirror_mode": {
    "name": "ipython",
    "version": 2
   },
   "file_extension": ".py",
   "mimetype": "text/x-python",
   "name": "python",
   "nbconvert_exporter": "python",
   "pygments_lexer": "ipython2",
   "version": "2.7.6"
  }
 },
 "nbformat": 4,
 "nbformat_minor": 0
}
