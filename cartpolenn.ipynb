{
 "cells": [
  {
   "cell_type": "code",
   "execution_count": 88,
   "metadata": {
    "collapsed": true,
    "ExecuteTime": {
     "end_time": "2024-01-14T07:52:17.366212400Z",
     "start_time": "2024-01-14T07:52:17.358417Z"
    }
   },
   "outputs": [],
   "source": [
    "import numpy as np\n",
    "import random\n",
    "import tensorflow as tf\n",
    "from collections import deque\n",
    "import gym\n",
    "from tensorflow.keras.models import Sequential, clone_model\n",
    "from tensorflow.keras.layers import Dense, Activation\n",
    "from tensorflow.keras.optimizers import Adam"
   ]
  },
  {
   "cell_type": "code",
   "execution_count": 89,
   "outputs": [],
   "source": [
    "# env_name = 'CartPole-v1'\n",
    "env = gym.make(env_name)\n"
   ],
   "metadata": {
    "collapsed": false,
    "ExecuteTime": {
     "end_time": "2024-01-14T07:52:17.366212400Z",
     "start_time": "2024-01-14T07:52:17.360933Z"
    }
   }
  },
  {
   "cell_type": "code",
   "execution_count": 90,
   "outputs": [],
   "source": [
    "# env.reset()\n",
    "# for step in range(100):\n",
    "#     env.render()\n",
    "#     env.step(env.action_space.sample())\n",
    "#\n",
    "# env.close()"
   ],
   "metadata": {
    "collapsed": false,
    "ExecuteTime": {
     "end_time": "2024-01-14T07:52:17.372896400Z",
     "start_time": "2024-01-14T07:52:17.365701800Z"
    }
   }
  },
  {
   "cell_type": "code",
   "execution_count": 91,
   "outputs": [],
   "source": [
    "num_of_obs = env.observation_space.shape[0]\n",
    "num_of_act = env.action_space.n"
   ],
   "metadata": {
    "collapsed": false,
    "ExecuteTime": {
     "end_time": "2024-01-14T07:52:17.372896400Z",
     "start_time": "2024-01-14T07:52:17.368222400Z"
    }
   }
  },
  {
   "cell_type": "code",
   "execution_count": 92,
   "outputs": [],
   "source": [
    "model = Sequential()\n",
    "model.add(Dense(16, activation = 'relu', input_shape=(1, num_of_obs)))\n",
    "model.add(Dense(32, activation = 'relu'))\n",
    "model.add(Dense(num_of_act, activation = 'linear'))\n",
    "\n"
   ],
   "metadata": {
    "collapsed": false,
    "ExecuteTime": {
     "end_time": "2024-01-14T07:52:17.419261200Z",
     "start_time": "2024-01-14T07:52:17.372896400Z"
    }
   }
  },
  {
   "cell_type": "code",
   "execution_count": 93,
   "outputs": [
    {
     "name": "stdout",
     "output_type": "stream",
     "text": [
      "Model: \"sequential_5\"\n",
      "_________________________________________________________________\n",
      " Layer (type)                Output Shape              Param #   \n",
      "=================================================================\n",
      " dense_15 (Dense)            (None, 1, 16)             80        \n",
      "                                                                 \n",
      " dense_16 (Dense)            (None, 1, 32)             544       \n",
      "                                                                 \n",
      " dense_17 (Dense)            (None, 1, 2)              66        \n",
      "                                                                 \n",
      "=================================================================\n",
      "Total params: 690 (2.70 KB)\n",
      "Trainable params: 690 (2.70 KB)\n",
      "Non-trainable params: 0 (0.00 Byte)\n",
      "_________________________________________________________________\n",
      "None\n"
     ]
    }
   ],
   "source": [
    "print(model.summary())"
   ],
   "metadata": {
    "collapsed": false,
    "ExecuteTime": {
     "end_time": "2024-01-14T07:52:17.430164900Z",
     "start_time": "2024-01-14T07:52:17.419261200Z"
    }
   }
  },
  {
   "cell_type": "code",
   "execution_count": 94,
   "outputs": [],
   "source": [
    "target_model = clone_model(model)"
   ],
   "metadata": {
    "collapsed": false,
    "ExecuteTime": {
     "end_time": "2024-01-14T07:52:17.471440600Z",
     "start_time": "2024-01-14T07:52:17.429162300Z"
    }
   }
  },
  {
   "cell_type": "code",
   "execution_count": 95,
   "outputs": [],
   "source": [
    "EPOCHS = 1000\n",
    "epsilon = 1.0\n",
    "epsilon_reduce = 0.0001\n",
    "learning_rate = 0.001\n",
    "gamma = 0.95"
   ],
   "metadata": {
    "collapsed": false,
    "ExecuteTime": {
     "end_time": "2024-01-14T07:52:17.473956Z",
     "start_time": "2024-01-14T07:52:17.469148200Z"
    }
   }
  },
  {
   "cell_type": "code",
   "execution_count": 96,
   "outputs": [],
   "source": [
    "def egas(model, epsilon, obs):\n",
    "    if np.random.random() > epsilon:\n",
    "        prediction = model.predict(obs)\n",
    "        action = np.argmax(prediction)\n",
    "\n",
    "    else:\n",
    "        action = env.action_space.sample()\n",
    "\n",
    "    return action"
   ],
   "metadata": {
    "collapsed": false,
    "ExecuteTime": {
     "end_time": "2024-01-14T07:52:17.478704900Z",
     "start_time": "2024-01-14T07:52:17.474955200Z"
    }
   }
  },
  {
   "cell_type": "code",
   "execution_count": 97,
   "outputs": [],
   "source": [
    "replay_buffer = deque(maxlen=20000)\n",
    "update_target_model = 10"
   ],
   "metadata": {
    "collapsed": false,
    "ExecuteTime": {
     "end_time": "2024-01-14T07:52:17.480222700Z",
     "start_time": "2024-01-14T07:52:17.478704900Z"
    }
   }
  },
  {
   "cell_type": "code",
   "execution_count": 98,
   "outputs": [],
   "source": [
    "def replay(replay_buffer, batch_size, model, target_model):\n",
    "    if len(replay_buffer) < batch_size:\n",
    "        return\n",
    "    samples = random.sample(replay_buffer, batch_size)\n",
    "    target_batch = []\n",
    "    zipped_samples = list(zip(*samples))\n",
    "    states, actions, rewards, new_states, dones = zipped_samples\n",
    "    targets = target_model.predict(np.array(states))\n",
    "    q_value = model.predict(np.array(new_states))\n",
    "\n",
    "    for i in range(batch_size):\n",
    "        print(f\"{q_value} : q vlaue\")\n",
    "        q_value = max(q_value[i][0])\n",
    "        print(f\"{q_value} : q max\")\n",
    "        target = targets[i].copy()\n",
    "\n",
    "        if dones[i]:\n",
    "            target[0][actions[i]] = rewards[i]\n",
    "\n",
    "        else:\n",
    "            target[0][actions[i]] = rewards[i]+q_value*gamma\n",
    "\n",
    "        target_batch.append(target)\n",
    "\n",
    "    model.fit(np.array(states), np.array(target_batch), epochs = 1)\n"
   ],
   "metadata": {
    "collapsed": false,
    "ExecuteTime": {
     "end_time": "2024-01-14T07:52:17.485511200Z",
     "start_time": "2024-01-14T07:52:17.483220500Z"
    }
   }
  },
  {
   "cell_type": "code",
   "execution_count": 99,
   "outputs": [],
   "source": [
    "def update_model_handler(update_target_model, model, target_model, epoch):\n",
    "    # print(epoch)\n",
    "    if epoch > 0 and update_target_model % epoch == 0:\n",
    "        target_model.set_weights(model.get_weights())"
   ],
   "metadata": {
    "collapsed": false,
    "ExecuteTime": {
     "end_time": "2024-01-14T07:52:17.490326500Z",
     "start_time": "2024-01-14T07:52:17.487509900Z"
    }
   }
  },
  {
   "cell_type": "code",
   "execution_count": 100,
   "outputs": [],
   "source": [
    "model.compile(loss='mse', optimizer = (Adam(learning_rate=learning_rate)))"
   ],
   "metadata": {
    "collapsed": false,
    "ExecuteTime": {
     "end_time": "2024-01-14T07:52:17.498027800Z",
     "start_time": "2024-01-14T07:52:17.490326500Z"
    }
   }
  },
  {
   "cell_type": "code",
   "execution_count": 101,
   "outputs": [],
   "source": [
    "env_name = 'CartPole-v1'\n",
    "env = gym.make(env_name)"
   ],
   "metadata": {
    "collapsed": false,
    "ExecuteTime": {
     "end_time": "2024-01-14T07:52:17.501553300Z",
     "start_time": "2024-01-14T07:52:17.499022900Z"
    }
   }
  },
  {
   "cell_type": "code",
   "execution_count": 102,
   "outputs": [
    {
     "name": "stdout",
     "output_type": "stream",
     "text": [
      "0 : 13 points : 13 : best\n",
      "1/1 [==============================] - 0s 47ms/step\n",
      "1/1 [==============================] - 0s 45ms/step\n",
      "[[[-1.03079014e-01  3.25278550e-01]]\n",
      "\n",
      " [[-1.87837988e-01  5.69102883e-01]]\n",
      "\n",
      " [[ 7.14810193e-03 -3.30729410e-04]]\n",
      "\n",
      " [[-1.08355589e-01  2.85330087e-01]]\n",
      "\n",
      " [[-1.70078501e-01  4.40738946e-01]]\n",
      "\n",
      " [[-3.77093330e-02  1.16925925e-01]]\n",
      "\n",
      " [[-1.37459710e-01  3.84120107e-01]]\n",
      "\n",
      " [[-9.49004441e-02  2.20403567e-01]]\n",
      "\n",
      " [[-1.24720313e-01  3.63384038e-01]]\n",
      "\n",
      " [[-2.65789181e-01  7.02113032e-01]]\n",
      "\n",
      " [[-2.02227503e-01  5.91903210e-01]]\n",
      "\n",
      " [[-1.48623347e-01  4.01431829e-01]]\n",
      "\n",
      " [[-7.88750798e-02  1.87951535e-01]]\n",
      "\n",
      " [[-1.67266473e-01  4.84540254e-01]]\n",
      "\n",
      " [[-5.01479656e-02  1.31023169e-01]]\n",
      "\n",
      " [[-2.17148200e-01  5.70175707e-01]]\n",
      "\n",
      " [[-8.34355429e-02  2.44192317e-01]]\n",
      "\n",
      " [[-3.08132656e-02  1.01348393e-01]]\n",
      "\n",
      " [[-5.33434078e-02  1.35909379e-01]]\n",
      "\n",
      " [[-6.68721646e-02  2.12959155e-01]]\n",
      "\n",
      " [[-1.24343678e-01  3.13395441e-01]]\n",
      "\n",
      " [[-1.45675689e-01  4.49096173e-01]]\n",
      "\n",
      " [[-1.78463608e-01  5.55384099e-01]]\n",
      "\n",
      " [[-1.23088330e-01  3.09060633e-01]]\n",
      "\n",
      " [[-1.57694608e-01  4.67603266e-01]]\n",
      "\n",
      " [[ 7.09365541e-03  3.87573093e-02]]\n",
      "\n",
      " [[-4.31278087e-02  1.26454905e-01]]\n",
      "\n",
      " [[-1.74918175e-01  4.95562732e-01]]\n",
      "\n",
      " [[ 4.25452599e-03  3.12755443e-02]]\n",
      "\n",
      " [[-8.83676559e-02  2.45070219e-01]]\n",
      "\n",
      " [[-1.39245749e-01  4.39498514e-01]]\n",
      "\n",
      " [[-1.45280033e-01  3.48270655e-01]]] : q vlaue\n",
      "0.32527855038642883 : q max\n",
      "0.32527855038642883 : q vlaue\n"
     ]
    },
    {
     "ename": "IndexError",
     "evalue": "invalid index to scalar variable.",
     "output_type": "error",
     "traceback": [
      "\u001B[1;31m---------------------------------------------------------------------------\u001B[0m",
      "\u001B[1;31mIndexError\u001B[0m                                Traceback (most recent call last)",
      "Cell \u001B[1;32mIn[102], line 17\u001B[0m\n\u001B[0;32m     15\u001B[0m     obs \u001B[38;5;241m=\u001B[39m next_obs\n\u001B[0;32m     16\u001B[0m     points\u001B[38;5;241m+\u001B[39m\u001B[38;5;241m=\u001B[39m\u001B[38;5;241m1\u001B[39m\n\u001B[1;32m---> 17\u001B[0m     \u001B[43mreplay\u001B[49m\u001B[43m(\u001B[49m\u001B[43mreplay_buffer\u001B[49m\u001B[43m,\u001B[49m\u001B[43m \u001B[49m\u001B[38;5;241;43m32\u001B[39;49m\u001B[43m,\u001B[49m\u001B[43m \u001B[49m\u001B[43mmodel\u001B[49m\u001B[43m,\u001B[49m\u001B[43m \u001B[49m\u001B[43mtarget_model\u001B[49m\u001B[43m)\u001B[49m\n\u001B[0;32m     19\u001B[0m epsilon \u001B[38;5;241m=\u001B[39m epsilon \u001B[38;5;241m-\u001B[39m epsilon_reduce\n\u001B[0;32m     20\u001B[0m update_model_handler(update_target_model, model, target_model, epoch)\n",
      "Cell \u001B[1;32mIn[98], line 13\u001B[0m, in \u001B[0;36mreplay\u001B[1;34m(replay_buffer, batch_size, model, target_model)\u001B[0m\n\u001B[0;32m     11\u001B[0m \u001B[38;5;28;01mfor\u001B[39;00m i \u001B[38;5;129;01min\u001B[39;00m \u001B[38;5;28mrange\u001B[39m(batch_size):\n\u001B[0;32m     12\u001B[0m     \u001B[38;5;28mprint\u001B[39m(\u001B[38;5;124mf\u001B[39m\u001B[38;5;124m\"\u001B[39m\u001B[38;5;132;01m{\u001B[39;00mq_value\u001B[38;5;132;01m}\u001B[39;00m\u001B[38;5;124m : q vlaue\u001B[39m\u001B[38;5;124m\"\u001B[39m)\n\u001B[1;32m---> 13\u001B[0m     q_value \u001B[38;5;241m=\u001B[39m \u001B[38;5;28mmax\u001B[39m(\u001B[43mq_value\u001B[49m\u001B[43m[\u001B[49m\u001B[43mi\u001B[49m\u001B[43m]\u001B[49m[\u001B[38;5;241m0\u001B[39m])\n\u001B[0;32m     14\u001B[0m     \u001B[38;5;28mprint\u001B[39m(\u001B[38;5;124mf\u001B[39m\u001B[38;5;124m\"\u001B[39m\u001B[38;5;132;01m{\u001B[39;00mq_value\u001B[38;5;132;01m}\u001B[39;00m\u001B[38;5;124m : q max\u001B[39m\u001B[38;5;124m\"\u001B[39m)\n\u001B[0;32m     15\u001B[0m     target \u001B[38;5;241m=\u001B[39m targets[i]\u001B[38;5;241m.\u001B[39mcopy()\n",
      "\u001B[1;31mIndexError\u001B[0m: invalid index to scalar variable."
     ]
    }
   ],
   "source": [
    "best = 0\n",
    "for epoch in range(EPOCHS):\n",
    "    obs = env.reset()\n",
    "    # print(obs)\n",
    "    obs = obs[0].reshape([1,4])\n",
    "    done = False\n",
    "    points = 0\n",
    "    while not done:\n",
    "        action = egas(model, epsilon, obs)\n",
    "        # print(env.step(action))\n",
    "        next_obs, reward, done, info, check = env.step(action)\n",
    "        next_obs = next_obs.reshape([1,4])\n",
    "\n",
    "        replay_buffer.append((obs, action, reward, next_obs, done))\n",
    "        obs = next_obs\n",
    "        points+=1\n",
    "        replay(replay_buffer, 32, model, target_model)\n",
    "\n",
    "    epsilon = epsilon - epsilon_reduce\n",
    "    update_model_handler(update_target_model, model, target_model, epoch)\n",
    "    if points > best:\n",
    "        best = points\n",
    "\n",
    "    if epoch%25 == 0:\n",
    "        print(f\"{epoch} : {points} points : {best} : best\")\n"
   ],
   "metadata": {
    "collapsed": false,
    "ExecuteTime": {
     "end_time": "2024-01-14T07:52:17.683655200Z",
     "start_time": "2024-01-14T07:52:17.502552900Z"
    }
   }
  },
  {
   "cell_type": "code",
   "execution_count": null,
   "outputs": [],
   "source": [],
   "metadata": {
    "collapsed": false
   }
  }
 ],
 "metadata": {
  "kernelspec": {
   "display_name": "Python 3",
   "language": "python",
   "name": "python3"
  },
  "language_info": {
   "codemirror_mode": {
    "name": "ipython",
    "version": 2
   },
   "file_extension": ".py",
   "mimetype": "text/x-python",
   "name": "python",
   "nbconvert_exporter": "python",
   "pygments_lexer": "ipython2",
   "version": "2.7.6"
  }
 },
 "nbformat": 4,
 "nbformat_minor": 0
}
